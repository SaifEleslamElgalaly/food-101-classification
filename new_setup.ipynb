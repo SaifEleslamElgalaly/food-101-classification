{
  "nbformat": 4,
  "nbformat_minor": 0,
  "metadata": {
    "colab": {
      "provenance": [],
      "authorship_tag": "ABX9TyP6o/XvFcxglq1g4qFxhFQL",
      "include_colab_link": true
    },
    "kernelspec": {
      "name": "python3",
      "display_name": "Python 3"
    },
    "language_info": {
      "name": "python"
    }
  },
  "cells": [
    {
      "cell_type": "markdown",
      "metadata": {
        "id": "view-in-github",
        "colab_type": "text"
      },
      "source": [
        "<a href=\"https://colab.research.google.com/github/SaifEleslamElgalaly/food-101-classification/blob/main/new_setup.ipynb\" target=\"_parent\"><img src=\"https://colab.research.google.com/assets/colab-badge.svg\" alt=\"Open In Colab\"/></a>"
      ]
    },
    {
      "cell_type": "code",
      "execution_count": 7,
      "metadata": {
        "colab": {
          "base_uri": "https://localhost:8080/"
        },
        "id": "9lB64HRcwRqd",
        "outputId": "d60e2eb8-09a6-456b-a32a-a9a20c3704c0"
      },
      "outputs": [
        {
          "output_type": "stream",
          "name": "stdout",
          "text": [
            "Drive already mounted at /content/drive; to attempt to forcibly remount, call drive.mount(\"/content/drive\", force_remount=True).\n"
          ]
        }
      ],
      "source": [
        "from google.colab import drive\n",
        "import os\n",
        "\n",
        "# ربط Drive\n",
        "drive.mount('/content/drive')\n",
        "\n",
        "# إذا البيانات غير موجودة محليًا، انسخها من Drive\n",
        "if not os.path.exists(\"/content/food-101\"):\n",
        "    !cp -r \"/content/drive/MyDrive/food-101\" \"/content/\"\n",
        "\n",
        "# استخدام المسار المحلي للأداء الأمثل\n",
        "data_path = \"/content/food-101\""
      ]
    },
    {
      "cell_type": "code",
      "source": [],
      "metadata": {
        "id": "5fUEhTM9yloX"
      },
      "execution_count": null,
      "outputs": []
    }
  ]
}