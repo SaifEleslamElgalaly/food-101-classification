{
  "nbformat": 4,
  "nbformat_minor": 0,
  "metadata": {
    "colab": {
      "provenance": [],
      "authorship_tag": "ABX9TyOExavbH7OT4goU65tMsSAe",
      "include_colab_link": true
    },
    "kernelspec": {
      "name": "python3",
      "display_name": "Python 3"
    },
    "language_info": {
      "name": "python"
    }
  },
  "cells": [
    {
      "cell_type": "markdown",
      "metadata": {
        "id": "view-in-github",
        "colab_type": "text"
      },
      "source": [
        "<a href=\"https://colab.research.google.com/github/SaifEleslamElgalaly/food-101-classification/blob/Saif/Setup%20v2.ipynb\" target=\"_parent\"><img src=\"https://colab.research.google.com/assets/colab-badge.svg\" alt=\"Open In Colab\"/></a>"
      ]
    },
    {
      "cell_type": "code",
      "execution_count": 3,
      "metadata": {
        "colab": {
          "base_uri": "https://localhost:8080/"
        },
        "id": "E6gBLx-R9cfX",
        "outputId": "c1c0b1fe-73a5-4d14-8e18-02c053002dbb"
      },
      "outputs": [
        {
          "output_type": "stream",
          "name": "stdout",
          "text": [
            "🚀 أدخل اسم الفرع الذي تعمل عليه: Saif\n",
            "✅ المستودع موجود بالفعل، سيتم التحقق من التحديثات.\n",
            "🔄 تحديث `main`...\n",
            "🔀 التبديل إلى الفرع `Saif`...\n",
            "📂 نسخ بيانات `food-101-reduced` إلى /content...\n",
            "✅ أنت الآن تعمل على الفرع `Saif`، ولديك نسخة مستقلة من البيانات في `/content/food-101-reduced`! 🚀\n"
          ]
        }
      ],
      "source": [
        "import os\n",
        "import shutil\n",
        "\n",
        "# 1️⃣ طلب اسم الفرع من المستخدم\n",
        "branch_name = input(\"🚀 أدخل اسم الفرع الذي تعمل عليه: \").strip()\n",
        "\n",
        "# 2️⃣ إعداد مسارات المستودع والبيانات\n",
        "repo_url = \"https://github.com/SaifEleslamElgalaly/food-101-classification.git\"\n",
        "repo_path = \"/content/food-101-classification\"\n",
        "data_source = os.path.join(repo_path, \"food-101-reduced\")\n",
        "data_copy = \"/content/food-101-reduced\"\n",
        "\n",
        "# 3️⃣ استنساخ المستودع إن لم يكن موجودًا\n",
        "if not os.path.exists(repo_path):\n",
        "    print(\"📥 جاري استنساخ المستودع...\")\n",
        "    os.system(f\"git clone {repo_url} {repo_path}\")\n",
        "else:\n",
        "    print(\"✅ المستودع موجود بالفعل، سيتم التحقق من التحديثات.\")\n",
        "\n",
        "# 4️⃣ الانتقال إلى المستودع والتأكد من تحديث `main`\n",
        "os.chdir(repo_path)\n",
        "print(\"🔄 تحديث `main`...\")\n",
        "os.system(\"git checkout main\")\n",
        "os.system(\"git pull origin main\")\n",
        "\n",
        "# 5️⃣ إنشاء أو الانتقال إلى الفرع المحدد\n",
        "print(f\"🔀 التبديل إلى الفرع `{branch_name}`...\")\n",
        "os.system(f\"git checkout -b {branch_name} || git checkout {branch_name}\")\n",
        "\n",
        "# 6️⃣ نسخ البيانات إلى مجلد جديد ليعمل العضو عليه دون التأثير على الأصل\n",
        "if os.path.exists(data_copy):\n",
        "    shutil.rmtree(data_copy)  # حذف النسخة القديمة إن وجدت\n",
        "\n",
        "print(\"📂 نسخ بيانات `food-101-reduced` إلى /content...\")\n",
        "shutil.copytree(data_source, data_copy)\n",
        "\n",
        "# 7️⃣ التأكيد على نجاح العملية\n",
        "print(f\"✅ أنت الآن تعمل على الفرع `{branch_name}`، ولديك نسخة مستقلة من البيانات في `{data_copy}`! 🚀\")\n"
      ]
    },
    {
      "cell_type": "code",
      "source": [
        "!cd /content/food-101-classification && git branch\n"
      ],
      "metadata": {
        "colab": {
          "base_uri": "https://localhost:8080/"
        },
        "id": "P2FwMVMh9tj2",
        "outputId": "2ef3de52-9a63-4489-adef-f9926bf3ea10"
      },
      "execution_count": 5,
      "outputs": [
        {
          "output_type": "stream",
          "name": "stdout",
          "text": [
            "* \u001b[32mSaif\u001b[m\n",
            "  main\u001b[m\n"
          ]
        }
      ]
    },
    {
      "cell_type": "code",
      "source": [
        "import os\n",
        "\n",
        "data_path = \"/content/food-101-reduced\"\n",
        "if os.path.exists(data_path):\n",
        "    print(f\"✅ البيانات موجودة في: {data_path}\")\n",
        "    print(f\"📂 عدد الملفات داخلها: {len(os.listdir(data_path))}\")\n",
        "else:\n",
        "    print(\"❌ لم يتم العثور على البيانات!\")\n"
      ],
      "metadata": {
        "colab": {
          "base_uri": "https://localhost:8080/"
        },
        "id": "V4amLB-V-Pdn",
        "outputId": "72aba1f4-980c-4845-ecee-9af1347f19b7"
      },
      "execution_count": 6,
      "outputs": [
        {
          "output_type": "stream",
          "name": "stdout",
          "text": [
            "✅ البيانات موجودة في: /content/food-101-reduced\n",
            "📂 عدد الملفات داخلها: 4\n"
          ]
        }
      ]
    },
    {
      "cell_type": "code",
      "source": [
        "!pip install roboflow\n"
      ],
      "metadata": {
        "colab": {
          "base_uri": "https://localhost:8080/"
        },
        "id": "V0XRfHHy7MhW",
        "outputId": "fab323d6-834b-4782-fecc-a0bfc9f37fe8"
      },
      "execution_count": 7,
      "outputs": [
        {
          "output_type": "stream",
          "name": "stdout",
          "text": [
            "Collecting roboflow\n",
            "  Downloading roboflow-1.1.61-py3-none-any.whl.metadata (9.7 kB)\n",
            "Requirement already satisfied: certifi in /usr/local/lib/python3.11/dist-packages (from roboflow) (2025.1.31)\n",
            "Collecting idna==3.7 (from roboflow)\n",
            "  Downloading idna-3.7-py3-none-any.whl.metadata (9.9 kB)\n",
            "Requirement already satisfied: cycler in /usr/local/lib/python3.11/dist-packages (from roboflow) (0.12.1)\n",
            "Requirement already satisfied: kiwisolver>=1.3.1 in /usr/local/lib/python3.11/dist-packages (from roboflow) (1.4.8)\n",
            "Requirement already satisfied: matplotlib in /usr/local/lib/python3.11/dist-packages (from roboflow) (3.10.0)\n",
            "Requirement already satisfied: numpy>=1.18.5 in /usr/local/lib/python3.11/dist-packages (from roboflow) (2.0.2)\n",
            "Collecting opencv-python-headless==4.10.0.84 (from roboflow)\n",
            "  Downloading opencv_python_headless-4.10.0.84-cp37-abi3-manylinux_2_17_x86_64.manylinux2014_x86_64.whl.metadata (20 kB)\n",
            "Requirement already satisfied: Pillow>=7.1.2 in /usr/local/lib/python3.11/dist-packages (from roboflow) (11.1.0)\n",
            "Collecting pillow-heif>=0.18.0 (from roboflow)\n",
            "  Downloading pillow_heif-0.22.0-cp311-cp311-manylinux_2_17_x86_64.manylinux2014_x86_64.whl.metadata (9.6 kB)\n",
            "Requirement already satisfied: python-dateutil in /usr/local/lib/python3.11/dist-packages (from roboflow) (2.8.2)\n",
            "Collecting python-dotenv (from roboflow)\n",
            "  Downloading python_dotenv-1.1.0-py3-none-any.whl.metadata (24 kB)\n",
            "Requirement already satisfied: requests in /usr/local/lib/python3.11/dist-packages (from roboflow) (2.32.3)\n",
            "Requirement already satisfied: six in /usr/local/lib/python3.11/dist-packages (from roboflow) (1.17.0)\n",
            "Requirement already satisfied: urllib3>=1.26.6 in /usr/local/lib/python3.11/dist-packages (from roboflow) (2.3.0)\n",
            "Requirement already satisfied: tqdm>=4.41.0 in /usr/local/lib/python3.11/dist-packages (from roboflow) (4.67.1)\n",
            "Requirement already satisfied: PyYAML>=5.3.1 in /usr/local/lib/python3.11/dist-packages (from roboflow) (6.0.2)\n",
            "Requirement already satisfied: requests-toolbelt in /usr/local/lib/python3.11/dist-packages (from roboflow) (1.0.0)\n",
            "Collecting filetype (from roboflow)\n",
            "  Downloading filetype-1.2.0-py2.py3-none-any.whl.metadata (6.5 kB)\n",
            "Requirement already satisfied: contourpy>=1.0.1 in /usr/local/lib/python3.11/dist-packages (from matplotlib->roboflow) (1.3.2)\n",
            "Requirement already satisfied: fonttools>=4.22.0 in /usr/local/lib/python3.11/dist-packages (from matplotlib->roboflow) (4.57.0)\n",
            "Requirement already satisfied: packaging>=20.0 in /usr/local/lib/python3.11/dist-packages (from matplotlib->roboflow) (24.2)\n",
            "Requirement already satisfied: pyparsing>=2.3.1 in /usr/local/lib/python3.11/dist-packages (from matplotlib->roboflow) (3.2.3)\n",
            "Requirement already satisfied: charset-normalizer<4,>=2 in /usr/local/lib/python3.11/dist-packages (from requests->roboflow) (3.4.1)\n",
            "Downloading roboflow-1.1.61-py3-none-any.whl (85 kB)\n",
            "\u001b[2K   \u001b[90m━━━━━━━━━━━━━━━━━━━━━━━━━━━━━━━━━━━━━━━━\u001b[0m \u001b[32m85.2/85.2 kB\u001b[0m \u001b[31m4.0 MB/s\u001b[0m eta \u001b[36m0:00:00\u001b[0m\n",
            "\u001b[?25hDownloading idna-3.7-py3-none-any.whl (66 kB)\n",
            "\u001b[2K   \u001b[90m━━━━━━━━━━━━━━━━━━━━━━━━━━━━━━━━━━━━━━━━\u001b[0m \u001b[32m66.8/66.8 kB\u001b[0m \u001b[31m4.7 MB/s\u001b[0m eta \u001b[36m0:00:00\u001b[0m\n",
            "\u001b[?25hDownloading opencv_python_headless-4.10.0.84-cp37-abi3-manylinux_2_17_x86_64.manylinux2014_x86_64.whl (49.9 MB)\n",
            "\u001b[2K   \u001b[90m━━━━━━━━━━━━━━━━━━━━━━━━━━━━━━━━━━━━━━━━\u001b[0m \u001b[32m49.9/49.9 MB\u001b[0m \u001b[31m14.7 MB/s\u001b[0m eta \u001b[36m0:00:00\u001b[0m\n",
            "\u001b[?25hDownloading pillow_heif-0.22.0-cp311-cp311-manylinux_2_17_x86_64.manylinux2014_x86_64.whl (7.8 MB)\n",
            "\u001b[2K   \u001b[90m━━━━━━━━━━━━━━━━━━━━━━━━━━━━━━━━━━━━━━━━\u001b[0m \u001b[32m7.8/7.8 MB\u001b[0m \u001b[31m74.2 MB/s\u001b[0m eta \u001b[36m0:00:00\u001b[0m\n",
            "\u001b[?25hDownloading filetype-1.2.0-py2.py3-none-any.whl (19 kB)\n",
            "Downloading python_dotenv-1.1.0-py3-none-any.whl (20 kB)\n",
            "Installing collected packages: filetype, python-dotenv, pillow-heif, opencv-python-headless, idna, roboflow\n",
            "  Attempting uninstall: opencv-python-headless\n",
            "    Found existing installation: opencv-python-headless 4.11.0.86\n",
            "    Uninstalling opencv-python-headless-4.11.0.86:\n",
            "      Successfully uninstalled opencv-python-headless-4.11.0.86\n",
            "  Attempting uninstall: idna\n",
            "    Found existing installation: idna 3.10\n",
            "    Uninstalling idna-3.10:\n",
            "      Successfully uninstalled idna-3.10\n",
            "Successfully installed filetype-1.2.0 idna-3.7 opencv-python-headless-4.10.0.84 pillow-heif-0.22.0 python-dotenv-1.1.0 roboflow-1.1.61\n"
          ]
        }
      ]
    },
    {
      "cell_type": "code",
      "source": [
        "!python --version"
      ],
      "metadata": {
        "colab": {
          "base_uri": "https://localhost:8080/"
        },
        "id": "8JiiZLi87RjW",
        "outputId": "4e363bda-75df-4e7e-ee05-8cf0f9b98340"
      },
      "execution_count": 13,
      "outputs": [
        {
          "output_type": "stream",
          "name": "stdout",
          "text": [
            "Python 3.11.12\n"
          ]
        }
      ]
    },
    {
      "cell_type": "code",
      "source": [],
      "metadata": {
        "id": "SFRDatQqCnJ4"
      },
      "execution_count": null,
      "outputs": []
    }
  ]
}