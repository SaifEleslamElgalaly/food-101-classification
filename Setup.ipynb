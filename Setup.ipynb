{
  "nbformat": 4,
  "nbformat_minor": 0,
  "metadata": {
    "colab": {
      "provenance": [],
      "authorship_tag": "ABX9TyPe2/6sn8jPeiUMM9ruZhPi",
      "include_colab_link": true
    },
    "kernelspec": {
      "name": "python3",
      "display_name": "Python 3"
    },
    "language_info": {
      "name": "python"
    }
  },
  "cells": [
    {
      "cell_type": "markdown",
      "metadata": {
        "id": "view-in-github",
        "colab_type": "text"
      },
      "source": [
        "<a href=\"https://colab.research.google.com/github/SaifEleslamElgalaly/food-101-classification/blob/main/Setup.ipynb\" target=\"_parent\"><img src=\"https://colab.research.google.com/assets/colab-badge.svg\" alt=\"Open In Colab\"/></a>"
      ]
    },
    {
      "cell_type": "code",
      "execution_count": 1,
      "metadata": {
        "colab": {
          "base_uri": "https://localhost:8080/"
        },
        "id": "E6gBLx-R9cfX",
        "outputId": "f39a3123-fe93-4bcd-9a8a-fa053834bfa2"
      },
      "outputs": [
        {
          "output_type": "stream",
          "name": "stdout",
          "text": [
            "🚀 أدخل اسم الفرع الذي تعمل عليه: Saif\n",
            "📥 جاري استنساخ المستودع...\n",
            "🔄 تحديث `main`...\n",
            "🔀 التبديل إلى الفرع `Saif`...\n",
            "📂 نسخ بيانات `food-101-reduced` إلى /content...\n",
            "✅ أنت الآن تعمل على الفرع `Saif`، ولديك نسخة مستقلة من البيانات في `/content/food-101-reduced`! 🚀\n"
          ]
        }
      ],
      "source": [
        "import os\n",
        "import shutil\n",
        "\n",
        "# 1️⃣ طلب اسم الفرع من المستخدم\n",
        "branch_name = input(\"🚀 أدخل اسم الفرع الذي تعمل عليه: \").strip()\n",
        "\n",
        "# 2️⃣ إعداد مسارات المستودع والبيانات\n",
        "repo_url = \"https://github.com/SaifEleslamElgalaly/food-101-classification.git\"\n",
        "repo_path = \"/content/food-101-classification\"\n",
        "data_source = os.path.join(repo_path, \"food-101-reduced\")\n",
        "data_copy = \"/content/food-101-reduced\"\n",
        "\n",
        "# 3️⃣ استنساخ المستودع إن لم يكن موجودًا\n",
        "if not os.path.exists(repo_path):\n",
        "    print(\"📥 جاري استنساخ المستودع...\")\n",
        "    os.system(f\"git clone {repo_url} {repo_path}\")\n",
        "else:\n",
        "    print(\"✅ المستودع موجود بالفعل، سيتم التحقق من التحديثات.\")\n",
        "\n",
        "# 4️⃣ الانتقال إلى المستودع والتأكد من تحديث `main`\n",
        "os.chdir(repo_path)\n",
        "print(\"🔄 تحديث `main`...\")\n",
        "os.system(\"git checkout main\")\n",
        "os.system(\"git pull origin main\")\n",
        "\n",
        "# 5️⃣ إنشاء أو الانتقال إلى الفرع المحدد\n",
        "print(f\"🔀 التبديل إلى الفرع `{branch_name}`...\")\n",
        "os.system(f\"git checkout -b {branch_name} || git checkout {branch_name}\")\n",
        "\n",
        "# 6️⃣ نسخ البيانات إلى مجلد جديد ليعمل العضو عليه دون التأثير على الأصل\n",
        "if os.path.exists(data_copy):\n",
        "    shutil.rmtree(data_copy)  # حذف النسخة القديمة إن وجدت\n",
        "\n",
        "print(\"📂 نسخ بيانات `food-101-reduced` إلى /content...\")\n",
        "shutil.copytree(data_source, data_copy)\n",
        "\n",
        "# 7️⃣ التأكيد على نجاح العملية\n",
        "print(f\"✅ أنت الآن تعمل على الفرع `{branch_name}`، ولديك نسخة مستقلة من البيانات في `{data_copy}`! 🚀\")\n"
      ]
    },
    {
      "cell_type": "code",
      "source": [
        "!cd /content/food-101-classification && git branch\n"
      ],
      "metadata": {
        "colab": {
          "base_uri": "https://localhost:8080/"
        },
        "id": "P2FwMVMh9tj2",
        "outputId": "df107397-356a-4cf1-e732-cb4afc041915"
      },
      "execution_count": 2,
      "outputs": [
        {
          "output_type": "stream",
          "name": "stdout",
          "text": [
            "* \u001b[32mSaif\u001b[m\n",
            "  main\u001b[m\n"
          ]
        }
      ]
    },
    {
      "cell_type": "code",
      "source": [
        "import os\n",
        "\n",
        "data_path = \"/content/food-101-reduced\"\n",
        "if os.path.exists(data_path):\n",
        "    print(f\"✅ البيانات موجودة في: {data_path}\")\n",
        "    print(f\"📂 عدد الملفات داخلها: {len(os.listdir(data_path))}\")\n",
        "else:\n",
        "    print(\"❌ لم يتم العثور على البيانات!\")\n"
      ],
      "metadata": {
        "colab": {
          "base_uri": "https://localhost:8080/"
        },
        "id": "V4amLB-V-Pdn",
        "outputId": "0c542d38-974a-4876-ac71-13164e6cbc24"
      },
      "execution_count": 3,
      "outputs": [
        {
          "output_type": "stream",
          "name": "stdout",
          "text": [
            "✅ البيانات موجودة في: /content/food-101-reduced\n",
            "📂 عدد الملفات داخلها: 4\n"
          ]
        }
      ]
    }
  ]
}