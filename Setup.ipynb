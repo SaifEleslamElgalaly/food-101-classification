{
  "nbformat": 4,
  "nbformat_minor": 0,
  "metadata": {
    "colab": {
      "provenance": [],
      "include_colab_link": true
    },
    "kernelspec": {
      "name": "python3",
      "display_name": "Python 3"
    },
    "language_info": {
      "name": "python"
    }
  },
  "cells": [
    {
      "cell_type": "markdown",
      "metadata": {
        "id": "view-in-github",
        "colab_type": "text"
      },
      "source": [
        "<a href=\"https://colab.research.google.com/github/SaifEleslamElgalaly/food-101-classification/blob/main/Setup.ipynb\" target=\"_parent\"><img src=\"https://colab.research.google.com/assets/colab-badge.svg\" alt=\"Open In Colab\"/></a>"
      ]
    },
    {
      "cell_type": "code",
      "execution_count": null,
      "metadata": {
        "id": "j5wPNxtm87gp"
      },
      "outputs": [],
      "source": [
        "from google.colab import drive\n",
        "import os\n",
        "\n",
        "# 1️⃣ Mount Google Drive\n",
        "drive.mount('/content/drive')\n",
        "\n",
        "# 2️⃣ Define dataset paths\n",
        "drive_dataset_path = \"/content/drive/My Drive/Food-101\"\n",
        "local_dataset_path = \"/content/Food101_copy\"\n",
        "\n",
        "# 3️⃣ Check if the local copy exists, then use rsync to copy efficiently\n",
        "if not os.path.exists(local_dataset_path):\n",
        "    print(\"📂 Copying dataset... This may take some time ⏳\")\n",
        "    !rsync -ah --progress \"{drive_dataset_path}/\" \"{local_dataset_path}/\"\n",
        "    print(\"✔️ Dataset copied successfully!\")\n",
        "else:\n",
        "    print(\"✅ Dataset already exists, skipping copy.\")\n",
        "\n",
        "# 4️⃣ Display dataset path for reference\n",
        "print(f\"📂 Use this dataset path in your code: {local_dataset_path}\")\n"
      ]
    }
  ]
}